{
 "cells": [
  {
   "cell_type": "code",
   "execution_count": 9,
   "metadata": {},
   "outputs": [
    {
     "name": "stdout",
     "output_type": "stream",
     "text": [
      "[[ 5.  3.  4. ...,  0.  0.  0.]\n",
      " [ 4.  0.  0. ...,  0.  0.  0.]\n",
      " [ 0.  0.  0. ...,  0.  0.  0.]\n",
      " ..., \n",
      " [ 5.  0.  0. ...,  0.  0.  0.]\n",
      " [ 0.  0.  0. ...,  0.  0.  0.]\n",
      " [ 0.  5.  0. ...,  0.  0.  0.]]\n"
     ]
    }
   ],
   "source": []
  },
  {
   "cell_type": "code",
   "execution_count": 1,
   "metadata": {
    "scrolled": true
   },
   "outputs": [
    {
     "name": "stdout",
     "output_type": "stream",
     "text": [
      "-------\n",
      "-------\n",
      "-------\n",
      "-------\n",
      "-------\n",
      "-------\n",
      "-------\n",
      "-------\n",
      "-------\n",
      "-------\n",
      "-------\n",
      "-------\n",
      "-------\n",
      "-------\n",
      "-------\n",
      "-------\n",
      "-------\n",
      "-------\n",
      "-------\n",
      "-------\n",
      "-------\n",
      "-------\n",
      "-------\n",
      "-------\n",
      "-------\n",
      "-------\n",
      "-------\n",
      "-------\n",
      "-------\n",
      "-------\n",
      "-------\n",
      "-------\n",
      "-------\n",
      "-------\n",
      "-------\n",
      "-------\n",
      "-------\n",
      "-------\n",
      "-------\n",
      "-------\n"
     ]
    },
    {
     "data": {
      "image/png": "[encoded data removed]",
      "text/plain": [
       "<matplotlib.figure.Figure at 0x204b6ced208>"
      ]
     },
     "metadata": {},
     "output_type": "display_data"
    }
   ],
   "source": [
    "import math\n",
    "import numpy as np\n",
    "import re\n",
    "import matplotlib.pyplot as plt\n",
    "\n",
    "def loadMovieData(filename):\n",
    "    data= np.zeros((943, 1682))\n",
    "    for line in open(filename, 'r'):\n",
    "        (user, movie, rating, ts) = re.split('\t|\t|\t', line)\n",
    "        #data.setdefault(user, 0)\n",
    "        data[(int)(user)-1][(int)(movie)-1] = (int)(rating)\n",
    "    return data\n",
    "\n",
    "#读取数据\n",
    "R_train = np.array(loadMovieData('u1.base'))\n",
    "R_test = np.array(loadMovieData('u1.test'))\n",
    "\n",
    "#初始化超参数\n",
    "max_epoch = 20\n",
    "m, n = R_train.shape\n",
    "k = 8\n",
    "lamda = 0.0001\n",
    "\n",
    "\n",
    "eps = 0.1\n",
    "I = np.eye(k)\n",
    "\n",
    "#根据X,Y,R,计算Loss\n",
    "def get_loss(X, Y, R):\n",
    "    loss = 0\n",
    "    print(\"-------\")\n",
    "    for u in range(m):\n",
    "        for i in range(n):\n",
    "            loss += (R[u][i] - X[u].dot(Y.T[i]))**2 + lamda * (np.dot(X[u], X[u]) + np.dot(Y.T[i], Y.T[i]))\n",
    "    return loss\n",
    "\n",
    "#根据均方根误差，判断是否满足结束训练的要求\n",
    "def is_ok(X, Y, R):\n",
    "    R_tem = np.dot(X, Y)\n",
    "    s = 0\n",
    "    for u in range(m):\n",
    "        for i in range(n):\n",
    "            s += (R_tem[u][i] - R[u][i])*(R_tem[u][i] - R[u][i])\n",
    "    s /= (m*n)\n",
    "    #print(s)\n",
    "    return math.sqrt(s) < eps\n",
    "    \n",
    "\n",
    "# 训练过程，ALS主过程\n",
    "def train(X, Y, R_train, R_test, loss_train, loss_test, epochs):\n",
    "    flag = 1\n",
    "    epoch = 0\n",
    "    while not is_ok(X, Y, R_train):\n",
    "        \n",
    "        #添加画图数据\n",
    "        loss_train.append(get_loss(X, Y, R_train))\n",
    "        loss_test.append(get_loss(X, Y, R_test))\n",
    "        epochs.append(epoch)\n",
    "        epoch += 1\n",
    "\n",
    "        if epoch >= max_epoch: break\n",
    "        #交替固定X,Y，更新Y,X\n",
    "        if flag == 1:\n",
    "            for u in range(m):\n",
    "                X[u] = np.linalg.inv((np.dot(Y, Y.T) + lamda * I)).dot(Y).dot(R_train[u])\n",
    "        else :\n",
    "            for i in range(n):\n",
    "                Y.T[i] = np.linalg.inv((np.dot(X.T, X) + lamda * I)).dot(X.T).dot(R_train.T[i])\n",
    "        flag *= -1\n",
    "\n",
    "\n",
    "\n",
    "\n",
    "#画图列表的初始化，epochs存迭代次数，loss_train为训练集Loss，loss_test为验证集Loss\n",
    "epochs = []\n",
    "loss_train = []\n",
    "loss_test = []\n",
    "X = np.ones(shape=[m, k])\n",
    "Y = np.ones(shape=[k, n])\n",
    "\n",
    "#训练开始\n",
    "train(X, Y, R_train, R_test, loss_train, loss_test, epochs)\n",
    "\n",
    "#显示训练集和验证集的Loss随迭代次数增加而变化的图形\n",
    "plt.plot(epochs, loss_test, label='validation loss')\n",
    "plt.plot(epochs, loss_train, label='train loss')\n",
    "plt.xlabel('Epoch')\n",
    "plt.ylabel('Loss')\n",
    "plt.legend()\n",
    "plt.show()"
   ]
  },
  {
   "cell_type": "code",
   "execution_count": null,
   "metadata": {
    "collapsed": true
   },
   "outputs": [],
   "source": []
  }
 ],
 "metadata": {
  "kernelspec": {
   "display_name": "Python 3",
   "language": "python",
   "name": "python3"
  },
  "language_info": {
   "codemirror_mode": {
    "name": "ipython",
    "version": 3
   },
   "file_extension": ".py",
   "mimetype": "text/x-python",
   "name": "python",
   "nbconvert_exporter": "python",
   "pygments_lexer": "ipython3",
   "version": "3.6.2"
  }
 },
 "nbformat": 4,
 "nbformat_minor": 1
}
